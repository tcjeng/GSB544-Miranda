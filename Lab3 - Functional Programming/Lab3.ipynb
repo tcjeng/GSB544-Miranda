{
 "cells": [
  {
   "cell_type": "raw",
   "metadata": {
    "vscode": {
     "languageId": "raw"
    }
   },
   "source": [
    "---\n",
    "title: Lab 3 - Singing a song\n",
    "author: Miranda Jeng\n",
    "format:\n",
    "  html:\n",
    "    theme: cosmo\n",
    "embed-resources: true\n",
    "---"
   ]
  },
  {
   "cell_type": "code",
   "execution_count": 58,
   "metadata": {
    "vscode": {
     "languageId": "python"
    }
   },
   "outputs": [],
   "source": [
    "import pandas as pd\n",
    "import numpy as np\n",
    "xmas = pd.read_csv('xmas.csv')"
   ]
  },
  {
   "cell_type": "markdown",
   "metadata": {},
   "source": [
    "## the outputs are correct in positron but duplicated in the render file"
   ]
  },
  {
   "cell_type": "markdown",
   "metadata": {},
   "source": [
    "#### Function 1: pluralize_gift()\n",
    "#### it's vectorized!"
   ]
  },
  {
   "cell_type": "code",
   "execution_count": 59,
   "metadata": {
    "vscode": {
     "languageId": "python"
    }
   },
   "outputs": [],
   "source": [
    "def pluralize_gift(gift):\n",
    "  \"\"\"\n",
    "  Returns plural of a list of nouns\n",
    "  \n",
    "  Parameters\n",
    "  ----------\n",
    "  gift: vector \n",
    "    nouns\n",
    "    \n",
    "  Return\n",
    "  ------\n",
    "  str\n",
    "    Plural version\n",
    "  \"\"\"\n",
    "    # If the input is a single string, convert it to a list for consistency\n",
    "  if isinstance(gift, str):\n",
    "      gift = [gift]\n",
    "\n",
    "  pluralized_gift = []\n",
    "    \n",
    "  for i in gift:\n",
    "      if \"oo\" in i:\n",
    "          plugift = i.replace(\"oo\", \"ee\")\n",
    "      elif i.endswith(\"y\"):\n",
    "          plugift = i[:-1] + \"ies\"\n",
    "      else:\n",
    "          plugift = i + \"s\"\n",
    "        \n",
    "      pluralized_gift.append(plugift)\n",
    "    \n",
    "    # If the original input was a single string, return the pluralized version as a string\n",
    "  if len(pluralized_gift) == 1:\n",
    "      return pluralized_gift[0]\n",
    "    \n",
    "    # Otherwise, return the list of pluralized words\n",
    "  return pluralized_gift"
   ]
  },
  {
   "cell_type": "code",
   "execution_count": 60,
   "metadata": {
    "vscode": {
     "languageId": "python"
    }
   },
   "outputs": [
    {
     "data": {
      "text/plain": [
       "['partridges',\n",
       " 'doves',\n",
       " 'hens',\n",
       " 'birds',\n",
       " 'rings',\n",
       " 'geese',\n",
       " 'swans',\n",
       " 'maids',\n",
       " 'ladies',\n",
       " 'lords',\n",
       " 'pipers',\n",
       " 'drummers']"
      ]
     },
     "execution_count": null,
     "metadata": {},
     "output_type": "execute_result"
    }
   ],
   "source": [
    "pluralize_gift(xmas['Gift.Item'])"
   ]
  },
  {
   "cell_type": "markdown",
   "metadata": {},
   "source": [
    "#### Function 2: make_phrase()"
   ]
  },
  {
   "cell_type": "code",
   "execution_count": 61,
   "metadata": {
    "vscode": {
     "languageId": "python"
    }
   },
   "outputs": [],
   "source": [
    "def make_phrase(num, item, verb, adjective, location):\n",
    "  \"\"\"\n",
    "  Returns a full phrase for a specific day in '12 Days of Christmas' song.\n",
    "\n",
    "  Parameters\n",
    "  ----------\n",
    "  num: int\n",
    "      The day number\n",
    "  item: str\n",
    "      The gift item (e.g., \"lord\")\n",
    "  verb: str\n",
    "      The action (e.g., \"a-leaping\")\n",
    "  adjective: str\n",
    "      Optional adjective (e.g., \"golden\")\n",
    "  location: str\n",
    "      Optional location (e.g., \"in a pear tree\")\n",
    "\n",
    "  Returns\n",
    "  -------\n",
    "  str\n",
    "      The formatted phrase\n",
    "  \"\"\"\n",
    "  \n",
    "  ## Step 1: Replace NAs with blank strings\n",
    "  verb = verb if pd.notna(verb) else \"\"\n",
    "  adjective = adjective if pd.notna(adjective) else \"\"\n",
    "  location = location if pd.notna(location) else \"\"\n",
    "  \n",
    "  ## Step 2: If the day number is larger than 1, the gift items need pluralized!\n",
    "  num = int(num)\n",
    "  if num > 1:\n",
    "    item = pluralize_gift(item)\n",
    "  \n",
    "  ## Step 3: Figure out if a gift item starts with a vowel\n",
    "  vowels = ('a', 'e', 'i', 'o', 'u')\n",
    "  starts_with_vowel = item[0].lower() in vowels  \n",
    "  \n",
    "  ## Step 4: For the first day, if the gift item starts with a vowel, replace the day with \"an\" and if the gift item does not start with a vowel, replace the day with \"a\" (e.g. a partridge in a pear tree). If it is not the first day, use just the number word (e.g. ten lords a leap)\n",
    "  number_words = [\"Two\", \"Three\", \"Four\", \"Five\", \"Six\", \"Seven\",\n",
    "                  \"Eight\", \"Nine\", \"Ten\", \"Eleven\", \"Twelve\"]\n",
    "  if num == 1:\n",
    "    num_word = \"an\" if starts_with_vowel else \"a\"\n",
    "  else:\n",
    "    num_word = number_words[num - 2]\n",
    "\n",
    "  ## Step 5: Put all of the pieces together into one string and return!\n",
    "  components = [num_word, adjective, item, verb, location]\n",
    "  # Filter out empty component before joining \n",
    "  phrase = \" \".join(filter(None, components)).strip()\n",
    "    \n",
    "  return phrase"
   ]
  },
  {
   "cell_type": "code",
   "execution_count": 62,
   "metadata": {
    "vscode": {
     "languageId": "python"
    }
   },
   "outputs": [
    {
     "data": {
      "text/plain": [
       "'Ten lords a-leaping'"
      ]
     },
     "execution_count": null,
     "metadata": {},
     "output_type": "execute_result"
    }
   ],
   "source": [
    "make_phrase(num = \"10\",\n",
    "            item = \"lord\", \n",
    "            verb = \"a-leaping\", \n",
    "            adjective = \"\", \n",
    "            location = \"\")"
   ]
  },
  {
   "cell_type": "code",
   "execution_count": 63,
   "metadata": {
    "vscode": {
     "languageId": "python"
    }
   },
   "outputs": [],
   "source": [
    "# Add Full Phrase column into the dataset\n",
    "def add_full_phrase_column(dataset, phrase_col='Full.Phrase'):\n",
    "    dataset[phrase_col] = list(\n",
    "        map(lambda row: make_phrase(\n",
    "            num=row['Day'], \n",
    "            item=row['Gift.Item'], \n",
    "            verb=row['Verb'], \n",
    "            adjective=row['Adjective'], \n",
    "            location=row['Location']\n",
    "        ), dataset.to_dict('records'))\n",
    "    )"
   ]
  },
  {
   "cell_type": "markdown",
   "metadata": {},
   "source": [
    "#### Function 3: sing_day()"
   ]
  },
  {
   "cell_type": "code",
   "execution_count": 64,
   "metadata": {
    "vscode": {
     "languageId": "python"
    }
   },
   "outputs": [],
   "source": [
    "def sing_day(dataset, num, phrase_col):\n",
    "\n",
    "    \"\"\"\n",
    "    Generate the lyrics for a specific day of the Christmas song.\n",
    "\n",
    "    Parameters\n",
    "    ----------\n",
    "    dataset: DataFrame\n",
    "        The dataset containing the gift phrases.\n",
    "    num: int\n",
    "        The day of Christmas to sing about.\n",
    "    phrase_col: str\n",
    "        The name of the column containing the gift phrases.\n",
    "\n",
    "    Returns\n",
    "    -------\n",
    "    str\n",
    "        The lyrics for the specified day.\n",
    "    \"\"\"\n",
    "\n",
    "    if phrase_col not in dataset.columns:\n",
    "       add_full_phrase_column(dataset, phrase_col)\n",
    "\n",
    "    # Step 1: Setup the intro line\n",
    "    num_word = dataset.loc[dataset['Day'] == num, 'Day.in.Words'].values[0]\n",
    "    intro = f\"On the {num_word} day of Christmas, my true love sent to me:\"\n",
    "    \n",
    "    # Step 2: Sing the gift phrases\n",
    "    gifts = list(map(lambda i: dataset.loc[dataset['Day'] == i, phrase_col].values[0] + \",\", range(num, 0, -1)))\n",
    "    if num > 1:\n",
    "        gifts[-1] = \"and \" + gifts[-1].strip(\",\")\n",
    "    else: \n",
    "        gifts[0] = gifts[0].strip(\",\")\n",
    "    \n",
    "    # Step 3: Put it all together and return the final verse\n",
    "    full_song = intro + \"\\n\" + \"\\n\".join(gifts)\n",
    "    full_song += \".\"\n",
    "    \n",
    "    return print(full_song)"
   ]
  },
  {
   "cell_type": "code",
   "execution_count": 65,
   "metadata": {
    "vscode": {
     "languageId": "python"
    }
   },
   "outputs": [
    {
     "name": "stdout",
     "output_type": "stream",
     "text": [
      "On the second day of Christmas, my true love sent to me:\n",
      "Two turtle doves,\n",
      "and a partridge in a pear tree.\n",
      "On the second day of Christmas, my true love sent to me:\n",
      "Two turtle doves,\n",
      "and a partridge in a pear tree.\n"
     ]
    }
   ],
   "source": [
    "sing_day(xmas, 2, \"Full.Phrase\")"
   ]
  },
  {
   "cell_type": "code",
   "execution_count": 66,
   "metadata": {
    "vscode": {
     "languageId": "python"
    }
   },
   "outputs": [
    {
     "name": "stdout",
     "output_type": "stream",
     "text": [
      "On the first day of Christmas, my true love sent to me:\n",
      "a partridge in a pear tree.\n",
      "\n",
      "On the second day of Christmas, my true love sent to me:\n",
      "Two turtle doves,\n",
      "and a partridge in a pear tree.\n",
      "\n",
      "On the third day of Christmas, my true love sent to me:\n",
      "Three french hens,\n",
      "Two turtle doves,\n",
      "and a partridge in a pear tree.\n",
      "\n",
      "On the fourth day of Christmas, my true love sent to me:\n",
      "Four calling birds,\n",
      "Three french hens,\n",
      "Two turtle doves,\n",
      "and a partridge in a pear tree.\n",
      "\n",
      "On the fifth day of Christmas, my true love sent to me:\n",
      "Five golden rings,\n",
      "Four calling birds,\n",
      "Three french hens,\n",
      "Two turtle doves,\n",
      "and a partridge in a pear tree.\n",
      "\n",
      "On the sixth day of Christmas, my true love sent to me:\n",
      "Six geese a-laying,\n",
      "Five golden rings,\n",
      "Four calling birds,\n",
      "Three french hens,\n",
      "Two turtle doves,\n",
      "and a partridge in a pear tree.\n",
      "\n",
      "On the seventh day of Christmas, my true love sent to me:\n",
      "Seven swans a-swimming,\n",
      "Six geese a-laying,\n",
      "Five golden rings,\n",
      "Four calling birds,\n",
      "Three french hens,\n",
      "Two turtle doves,\n",
      "and a partridge in a pear tree.\n",
      "\n",
      "On the eighth day of Christmas, my true love sent to me:\n",
      "Eight maids a-milking,\n",
      "Seven swans a-swimming,\n",
      "Six geese a-laying,\n",
      "Five golden rings,\n",
      "Four calling birds,\n",
      "Three french hens,\n",
      "Two turtle doves,\n",
      "and a partridge in a pear tree.\n",
      "\n",
      "On the ninth day of Christmas, my true love sent to me:\n",
      "Nine ladies dancing,\n",
      "Eight maids a-milking,\n",
      "Seven swans a-swimming,\n",
      "Six geese a-laying,\n",
      "Five golden rings,\n",
      "Four calling birds,\n",
      "Three french hens,\n",
      "Two turtle doves,\n",
      "and a partridge in a pear tree.\n",
      "\n",
      "On the tenth day of Christmas, my true love sent to me:\n",
      "Ten lords a-leaping,\n",
      "Nine ladies dancing,\n",
      "Eight maids a-milking,\n",
      "Seven swans a-swimming,\n",
      "Six geese a-laying,\n",
      "Five golden rings,\n",
      "Four calling birds,\n",
      "Three french hens,\n",
      "Two turtle doves,\n",
      "and a partridge in a pear tree.\n",
      "\n",
      "On the eleventh day of Christmas, my true love sent to me:\n",
      "Eleven pipers piping,\n",
      "Ten lords a-leaping,\n",
      "Nine ladies dancing,\n",
      "Eight maids a-milking,\n",
      "Seven swans a-swimming,\n",
      "Six geese a-laying,\n",
      "Five golden rings,\n",
      "Four calling birds,\n",
      "Three french hens,\n",
      "Two turtle doves,\n",
      "and a partridge in a pear tree.\n",
      "\n",
      "On the twelfth day of Christmas, my true love sent to me:\n",
      "Twelve drummers drumming,\n",
      "Eleven pipers piping,\n",
      "Ten lords a-leaping,\n",
      "Nine ladies dancing,\n",
      "Eight maids a-milking,\n",
      "Seven swans a-swimming,\n",
      "Six geese a-laying,\n",
      "Five golden rings,\n",
      "Four calling birds,\n",
      "Three french hens,\n",
      "Two turtle doves,\n",
      "and a partridge in a pear tree.\n",
      "On the first day of Christmas, my true love sent to me:\n",
      "a partridge in a pear tree.\n",
      "\n",
      "On the second day of Christmas, my true love sent to me:\n",
      "Two turtle doves,\n",
      "and a partridge in a pear tree.\n",
      "\n",
      "On the third day of Christmas, my true love sent to me:\n",
      "Three french hens,\n",
      "Two turtle doves,\n",
      "and a partridge in a pear tree.\n",
      "\n",
      "On the fourth day of Christmas, my true love sent to me:\n",
      "Four calling birds,\n",
      "Three french hens,\n",
      "Two turtle doves,\n",
      "and a partridge in a pear tree.\n",
      "\n",
      "On the fifth day of Christmas, my true love sent to me:\n",
      "Five golden rings,\n",
      "Four calling birds,\n",
      "Three french hens,\n",
      "Two turtle doves,\n",
      "and a partridge in a pear tree.\n",
      "\n",
      "On the sixth day of Christmas, my true love sent to me:\n",
      "Six geese a-laying,\n",
      "Five golden rings,\n",
      "Four calling birds,\n",
      "Three french hens,\n",
      "Two turtle doves,\n",
      "and a partridge in a pear tree.\n",
      "\n",
      "On the seventh day of Christmas, my true love sent to me:\n",
      "Seven swans a-swimming,\n",
      "Six geese a-laying,\n",
      "Five golden rings,\n",
      "Four calling birds,\n",
      "Three french hens,\n",
      "Two turtle doves,\n",
      "and a partridge in a pear tree.\n",
      "\n",
      "On the eighth day of Christmas, my true love sent to me:\n",
      "Eight maids a-milking,\n",
      "Seven swans a-swimming,\n",
      "Six geese a-laying,\n",
      "Five golden rings,\n",
      "Four calling birds,\n",
      "Three french hens,\n",
      "Two turtle doves,\n",
      "and a partridge in a pear tree.\n",
      "\n",
      "On the ninth day of Christmas, my true love sent to me:\n",
      "Nine ladies dancing,\n",
      "Eight maids a-milking,\n",
      "Seven swans a-swimming,\n",
      "Six geese a-laying,\n",
      "Five golden rings,\n",
      "Four calling birds,\n",
      "Three french hens,\n",
      "Two turtle doves,\n",
      "and a partridge in a pear tree.\n",
      "\n",
      "On the tenth day of Christmas, my true love sent to me:\n",
      "Ten lords a-leaping,\n",
      "Nine ladies dancing,\n",
      "Eight maids a-milking,\n",
      "Seven swans a-swimming,\n",
      "Six geese a-laying,\n",
      "Five golden rings,\n",
      "Four calling birds,\n",
      "Three french hens,\n",
      "Two turtle doves,\n",
      "and a partridge in a pear tree.\n",
      "\n",
      "On the eleventh day of Christmas, my true love sent to me:\n",
      "Eleven pipers piping,\n",
      "Ten lords a-leaping,\n",
      "Nine ladies dancing,\n",
      "Eight maids a-milking,\n",
      "Seven swans a-swimming,\n",
      "Six geese a-laying,\n",
      "Five golden rings,\n",
      "Four calling birds,\n",
      "Three french hens,\n",
      "Two turtle doves,\n",
      "and a partridge in a pear tree.\n",
      "\n",
      "On the twelfth day of Christmas, my true love sent to me:\n",
      "Twelve drummers drumming,\n",
      "Eleven pipers piping,\n",
      "Ten lords a-leaping,\n",
      "Nine ladies dancing,\n",
      "Eight maids a-milking,\n",
      "Seven swans a-swimming,\n",
      "Six geese a-laying,\n",
      "Five golden rings,\n",
      "Four calling birds,\n",
      "Three french hens,\n",
      "Two turtle doves,\n",
      "and a partridge in a pear tree.\n"
     ]
    }
   ],
   "source": [
    "# Use map to call sing_day for each day from 1 to 12\n",
    "def entire_song_map(dataset, phrase_col):\n",
    "    list(map(lambda day: (print() if day > 1 else None, sing_day(dataset, day, phrase_col)), range(1, 13)))\n",
    "    \n",
    "entire_song_map(xmas, \"Full.Phrase\")"
   ]
  },
  {
   "cell_type": "markdown",
   "metadata": {},
   "source": [
    "#### Final output get rid of the white space, print a new line, print a separate line in between days, and add in commas and a period at the end"
   ]
  },
  {
   "cell_type": "code",
   "execution_count": 67,
   "metadata": {
    "vscode": {
     "languageId": "python"
    }
   },
   "outputs": [],
   "source": [
    "xmas2 = pd.read_csv('xmas_2.csv')"
   ]
  },
  {
   "cell_type": "code",
   "execution_count": 68,
   "metadata": {
    "vscode": {
     "languageId": "python"
    }
   },
   "outputs": [
    {
     "name": "stdout",
     "output_type": "stream",
     "text": [
      "On the third day of Christmas, my true love sent to me:\n",
      "Three lost pens,\n",
      "Two meal points,\n",
      "and an email from Cal Poly.\n",
      "On the third day of Christmas, my true love sent to me:\n",
      "Three lost pens,\n",
      "Two meal points,\n",
      "and an email from Cal Poly.\n"
     ]
    }
   ],
   "source": [
    "sing_day(xmas2, 3, \"Full.Phrase\")"
   ]
  },
  {
   "cell_type": "code",
   "execution_count": 69,
   "metadata": {
    "vscode": {
     "languageId": "python"
    }
   },
   "outputs": [
    {
     "name": "stdout",
     "output_type": "stream",
     "text": [
      "On the first day of Christmas, my true love sent to me:\n",
      "an email from Cal Poly.\n",
      "\n",
      "On the second day of Christmas, my true love sent to me:\n",
      "Two meal points,\n",
      "and an email from Cal Poly.\n",
      "\n",
      "On the third day of Christmas, my true love sent to me:\n",
      "Three lost pens,\n",
      "Two meal points,\n",
      "and an email from Cal Poly.\n",
      "\n",
      "On the fourth day of Christmas, my true love sent to me:\n",
      "Four course reviews,\n",
      "Three lost pens,\n",
      "Two meal points,\n",
      "and an email from Cal Poly.\n",
      "\n",
      "On the fifth day of Christmas, my true love sent to me:\n",
      "Five practice exams,\n",
      "Four course reviews,\n",
      "Three lost pens,\n",
      "Two meal points,\n",
      "and an email from Cal Poly.\n",
      "\n",
      "On the sixth day of Christmas, my true love sent to me:\n",
      "Six graders grading,\n",
      "Five practice exams,\n",
      "Four course reviews,\n",
      "Three lost pens,\n",
      "Two meal points,\n",
      "and an email from Cal Poly.\n",
      "\n",
      "On the seventh day of Christmas, my true love sent to me:\n",
      "Seven seniors stressing,\n",
      "Six graders grading,\n",
      "Five practice exams,\n",
      "Four course reviews,\n",
      "Three lost pens,\n",
      "Two meal points,\n",
      "and an email from Cal Poly.\n",
      "\n",
      "On the eighth day of Christmas, my true love sent to me:\n",
      "Eight moms a-calling,\n",
      "Seven seniors stressing,\n",
      "Six graders grading,\n",
      "Five practice exams,\n",
      "Four course reviews,\n",
      "Three lost pens,\n",
      "Two meal points,\n",
      "and an email from Cal Poly.\n",
      "\n",
      "On the ninth day of Christmas, my true love sent to me:\n",
      "Nine parties bumping,\n",
      "Eight moms a-calling,\n",
      "Seven seniors stressing,\n",
      "Six graders grading,\n",
      "Five practice exams,\n",
      "Four course reviews,\n",
      "Three lost pens,\n",
      "Two meal points,\n",
      "and an email from Cal Poly.\n",
      "\n",
      "On the tenth day of Christmas, my true love sent to me:\n",
      "Ten loads of laundry,\n",
      "Nine parties bumping,\n",
      "Eight moms a-calling,\n",
      "Seven seniors stressing,\n",
      "Six graders grading,\n",
      "Five practice exams,\n",
      "Four course reviews,\n",
      "Three lost pens,\n",
      "Two meal points,\n",
      "and an email from Cal Poly.\n",
      "\n",
      "On the eleventh day of Christmas, my true love sent to me:\n",
      "Eleven friends goodbye-ing,\n",
      "Ten loads of laundry,\n",
      "Nine parties bumping,\n",
      "Eight moms a-calling,\n",
      "Seven seniors stressing,\n",
      "Six graders grading,\n",
      "Five practice exams,\n",
      "Four course reviews,\n",
      "Three lost pens,\n",
      "Two meal points,\n",
      "and an email from Cal Poly.\n",
      "\n",
      "On the twelfth day of Christmas, my true love sent to me:\n",
      "Twelve hours sleeping,\n",
      "Eleven friends goodbye-ing,\n",
      "Ten loads of laundry,\n",
      "Nine parties bumping,\n",
      "Eight moms a-calling,\n",
      "Seven seniors stressing,\n",
      "Six graders grading,\n",
      "Five practice exams,\n",
      "Four course reviews,\n",
      "Three lost pens,\n",
      "Two meal points,\n",
      "and an email from Cal Poly.\n",
      "On the first day of Christmas, my true love sent to me:\n",
      "an email from Cal Poly.\n",
      "\n",
      "On the second day of Christmas, my true love sent to me:\n",
      "Two meal points,\n",
      "and an email from Cal Poly.\n",
      "\n",
      "On the third day of Christmas, my true love sent to me:\n",
      "Three lost pens,\n",
      "Two meal points,\n",
      "and an email from Cal Poly.\n",
      "\n",
      "On the fourth day of Christmas, my true love sent to me:\n",
      "Four course reviews,\n",
      "Three lost pens,\n",
      "Two meal points,\n",
      "and an email from Cal Poly.\n",
      "\n",
      "On the fifth day of Christmas, my true love sent to me:\n",
      "Five practice exams,\n",
      "Four course reviews,\n",
      "Three lost pens,\n",
      "Two meal points,\n",
      "and an email from Cal Poly.\n",
      "\n",
      "On the sixth day of Christmas, my true love sent to me:\n",
      "Six graders grading,\n",
      "Five practice exams,\n",
      "Four course reviews,\n",
      "Three lost pens,\n",
      "Two meal points,\n",
      "and an email from Cal Poly.\n",
      "\n",
      "On the seventh day of Christmas, my true love sent to me:\n",
      "Seven seniors stressing,\n",
      "Six graders grading,\n",
      "Five practice exams,\n",
      "Four course reviews,\n",
      "Three lost pens,\n",
      "Two meal points,\n",
      "and an email from Cal Poly.\n",
      "\n",
      "On the eighth day of Christmas, my true love sent to me:\n",
      "Eight moms a-calling,\n",
      "Seven seniors stressing,\n",
      "Six graders grading,\n",
      "Five practice exams,\n",
      "Four course reviews,\n",
      "Three lost pens,\n",
      "Two meal points,\n",
      "and an email from Cal Poly.\n",
      "\n",
      "On the ninth day of Christmas, my true love sent to me:\n",
      "Nine parties bumping,\n",
      "Eight moms a-calling,\n",
      "Seven seniors stressing,\n",
      "Six graders grading,\n",
      "Five practice exams,\n",
      "Four course reviews,\n",
      "Three lost pens,\n",
      "Two meal points,\n",
      "and an email from Cal Poly.\n",
      "\n",
      "On the tenth day of Christmas, my true love sent to me:\n",
      "Ten loads of laundry,\n",
      "Nine parties bumping,\n",
      "Eight moms a-calling,\n",
      "Seven seniors stressing,\n",
      "Six graders grading,\n",
      "Five practice exams,\n",
      "Four course reviews,\n",
      "Three lost pens,\n",
      "Two meal points,\n",
      "and an email from Cal Poly.\n",
      "\n",
      "On the eleventh day of Christmas, my true love sent to me:\n",
      "Eleven friends goodbye-ing,\n",
      "Ten loads of laundry,\n",
      "Nine parties bumping,\n",
      "Eight moms a-calling,\n",
      "Seven seniors stressing,\n",
      "Six graders grading,\n",
      "Five practice exams,\n",
      "Four course reviews,\n",
      "Three lost pens,\n",
      "Two meal points,\n",
      "and an email from Cal Poly.\n",
      "\n",
      "On the twelfth day of Christmas, my true love sent to me:\n",
      "Twelve hours sleeping,\n",
      "Eleven friends goodbye-ing,\n",
      "Ten loads of laundry,\n",
      "Nine parties bumping,\n",
      "Eight moms a-calling,\n",
      "Seven seniors stressing,\n",
      "Six graders grading,\n",
      "Five practice exams,\n",
      "Four course reviews,\n",
      "Three lost pens,\n",
      "Two meal points,\n",
      "and an email from Cal Poly.\n"
     ]
    }
   ],
   "source": [
    "entire_song_map(xmas2, \"Full.Phrase\")"
   ]
  }
 ],
 "metadata": {
  "language_info": {
   "name": "r"
  }
 },
 "nbformat": 4,
 "nbformat_minor": 2
}
